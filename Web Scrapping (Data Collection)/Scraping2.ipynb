{
 "cells": [
  {
   "cell_type": "code",
   "execution_count": 1,
   "metadata": {},
   "outputs": [],
   "source": [
    "import pandas as pd\n",
    "import requests\n",
    "from bs4 import BeautifulSoup"
   ]
  },
  {
   "cell_type": "markdown",
   "metadata": {},
   "source": [
    "------------------------------"
   ]
  },
  {
   "cell_type": "markdown",
   "metadata": {},
   "source": [
    "#### Entertainment Shell"
   ]
  },
  {
   "cell_type": "code",
   "execution_count": 2,
   "metadata": {},
   "outputs": [],
   "source": [
    "url = \"https://timesofindia.indiatimes.com/entertainment\""
   ]
  },
  {
   "cell_type": "code",
   "execution_count": 3,
   "metadata": {},
   "outputs": [],
   "source": [
    "page  = requests.get(url)"
   ]
  },
  {
   "cell_type": "code",
   "execution_count": 4,
   "metadata": {},
   "outputs": [],
   "source": [
    "soup = BeautifulSoup(page.content, 'html.parser')"
   ]
  },
  {
   "cell_type": "code",
   "execution_count": 5,
   "metadata": {},
   "outputs": [
    {
     "name": "stdout",
     "output_type": "stream",
     "text": [
      "[\"Jonita 'excited' to kick-off Dua Lipa's concert\", 'Kangana: This country will never stop trivialising rape', '2024 MTV VMAs: All you need to know', 'Karisma ’s latest look is perfect for the festive season', \"ISIS targeted 'thousands' at Swift concert: CIA\", \"Woo Bin's secret gesture for accident victim\", \"Kalki blames Alia for Sappho's obsession with pets\", \"Kim Se-jeong's best Korean dramas to binge-watch!\", 'Vijay Varma reveals Manoj Bajpayee is petrified of flying', \"BJP National Secretary Sirsa opposes Kangana's Emergency\", \"Was Salman's Sikandar shoot halted due to his rib injury?\", 'Shah Rukh Khan records wealth of Rs 7,300 crore', 'Shera buys luxury car worth Rs 1.4 crore', 'Kangana on to her VIRAL pics with Chirag', 'Sidharth enjoys a game of cricket with Fawad Khan', \"Jonita 'excited' to kick-off Dua Lipa's concert\", 'Kangana: This country will never stop trivialising rape', '2024 MTV VMAs: All you need to know', 'Karisma ’s latest look is perfect for the festive season', \"Woo Bin's secret gesture for accident victim\", \"Kalki blames Alia for Sappho's obsession with pets\", 'Kozhikode man accuses filmmaker Ranjith of sexual abuse', 'Prithviraj Sukumaran reacts to the Hema Committee report', 'Young actress accuses Riyaz Khan of inappropriate advances', \"Siddique resigns from artists' body over sexual assault allegation\", 'Ranjith resigns as Kerala Chalachitra Academy Chairman', 'Sreelekha Mitra alleges director Ranjith inappropriately touched her', 'Siddique denies the existence of ‘power group’ in Malayalam cinema', 'Salman Khan Struggles To Stand At Ganpati Event; Video Leaves Fans Worried', \"Actor & MP Kangana Calls Out Mollywood's 6-Year Cover-Up of Sexual Harassment | QUESTIONS Why Reports VANISHED\", 'Vijay Varma’s Surprising Revelation: Manoj Bajpayee Sir Would Sit Very Intensely...', 'Shabana Azmi and Arijit Singh Amplify Voices for Justice in Kolkata', \"Salman Khan's Fan Touches His Feet; Actor's reaction Goes Viral\", 'Singer Taeil Leaves NCT After Sexual Offense Claims: SM Entertainment Confirms & Members Unfollow', 'IC 814 Exclusive: Anubhav Sinha, Vijay Varma & Kumud Mishra Talk Best Moments and Surprises From The Thriller', 'Kangana Ranaut Accuses Bollywood of Sabotaging Talent and Promoting Mediocrity', \"Swara Bhasker on Malayalam Film Industry Scandal: 'Male-Centric and Predatory'\", 'Abhishek Bachchan Spotted at Mumbai Airport with Family: Fans Concerned Over Aishwarya Rai’s Absence', 'Ritabhari Pushes Mamata Banerjee For Hema Committee Style Probe In Bengal film industry', 'Katrina Kaif’s Airport Appearance Sparks New Pregnancy Rumours', \"Actresses who dropped their husband's last name amidst bitter divorce battles\", \"RDJ's audition tape for 'Iron Man' resurfaces - WATCH\", 'Marvel star remember Chadwick Boseman', \"'Joker Folie a Deux' starring Joaquin Phoenix and Lady Gaga gets EARLY October 2 release in India as Akshay Kumar's 'Sky Force' gets postponed\", \"Hrithik Roshan to star in 'Rings of Power'?\", 'Style your saree like Keerthy Suresh', \"Date Night Dresses ft. Sonam Bajwa's Style Guide\", \"Before 'GOAT', Vijay's films that had the lengthy runtime\", '\\u200bWamiqa Gabbi captivates with her mesmerising eyes \\u200b', \"Sonalee Kulkarni's Stunning Looks\", \"9 Times Sonam Bajwa's Surreal Beauty Left Us Mesmerized\", 'Anju Kurian shines bright in these pics', \"Jahnvi Chauhan's most stylish clicks\", 'Iswarya Menon stuns gracefully in exquisite traditional sarees', '\\u200bGet inspired by Keerthi Pandian sets OOTD goals\\u200b', 'Priyanka Arul Mohan looks stunning in a saree', 'Bollywood films that got a re-release in 2024', \"Priyanka Chopra opens up on spending time with daughter Malti Marie amidst gruelling shoot schedule for 'The Bluff'\", \"Jonita Gandhi says she is 'very excited' to kick-start Dua Lipa's Mumbai concert: 'I am definitely going to perform as many of my songs as I can'\", 'Style your saree like Keerthy Suresh', \"Karthi to play MS Dhoni's fan in 'Meiyazhagan'; audio launch scheduled for August 31\", \"Megan Thee Stallion hosts, Taylor Swift dominates: Here's what to know about the 2024 MTV VMAs\", 'Dev drops action-packed teaser of his upcoming film', \"ISIS plot aimed to target 'tens of thousands' at Taylor Swift concert in Vienna, CIA reveals\", \"Mudassar Aziz REACTS to Akshay Kumar's flop streak: It has also happened with Shah Rukh Khan\", \"Vetri Maaran’s 'Viduthalai Part 2' to release on December 20\", \"It's official: Nagarjuna joins Rajinikanth's 'Coolie'\", \"Kangana Ranaut claps back at SAD chief Simranjit Singh Mann's comments: This country will never stop trivialising rape\", \"Kalki Koechlin blames Alia Bhatt for daughter Sappho's obsession with pets; here's why!\", \"Glimpse of Sathish's 'Sattam En Kaiyil'\", \"Vaibhav Tatwawadi shares a picture with 'legend' Sachin Tendulkar; calls it, 'Snapshot of my childhood'\", \"'Kantara' to re-release in theatres after National Award win\", \"Michael Keaton on 'Dumbo': I was clueless\", \"Rajkummar would love to work with wife, 'great talent' Patralekhaa again\", 'Ryan Reynolds bats for Oscars award category for stunt work']\n"
     ]
    }
   ],
   "source": [
    "headlines = soup.find_all(attrs={'class': 'CRKrj'})\n",
    "headline_ent = []\n",
    "for headline in headlines:\n",
    "    headline_ent.append(headline.text)\n",
    "print(headline_ent) "
   ]
  },
  {
   "cell_type": "code",
   "execution_count": 6,
   "metadata": {},
   "outputs": [
    {
     "data": {
      "text/html": [
       "<div>\n",
       "<style scoped>\n",
       "    .dataframe tbody tr th:only-of-type {\n",
       "        vertical-align: middle;\n",
       "    }\n",
       "\n",
       "    .dataframe tbody tr th {\n",
       "        vertical-align: top;\n",
       "    }\n",
       "\n",
       "    .dataframe thead th {\n",
       "        text-align: right;\n",
       "    }\n",
       "</style>\n",
       "<table border=\"1\" class=\"dataframe\">\n",
       "  <thead>\n",
       "    <tr style=\"text-align: right;\">\n",
       "      <th></th>\n",
       "      <th>Headline</th>\n",
       "      <th>Genre</th>\n",
       "    </tr>\n",
       "  </thead>\n",
       "  <tbody>\n",
       "    <tr>\n",
       "      <th>0</th>\n",
       "      <td>Jonita 'excited' to kick-off Dua Lipa's concert</td>\n",
       "      <td>Entertainment</td>\n",
       "    </tr>\n",
       "    <tr>\n",
       "      <th>1</th>\n",
       "      <td>Kangana: This country will never stop triviali...</td>\n",
       "      <td>Entertainment</td>\n",
       "    </tr>\n",
       "    <tr>\n",
       "      <th>2</th>\n",
       "      <td>2024 MTV VMAs: All you need to know</td>\n",
       "      <td>Entertainment</td>\n",
       "    </tr>\n",
       "    <tr>\n",
       "      <th>3</th>\n",
       "      <td>Karisma ’s latest look is perfect for the fest...</td>\n",
       "      <td>Entertainment</td>\n",
       "    </tr>\n",
       "    <tr>\n",
       "      <th>4</th>\n",
       "      <td>ISIS targeted 'thousands' at Swift concert: CIA</td>\n",
       "      <td>Entertainment</td>\n",
       "    </tr>\n",
       "    <tr>\n",
       "      <th>...</th>\n",
       "      <td>...</td>\n",
       "      <td>...</td>\n",
       "    </tr>\n",
       "    <tr>\n",
       "      <th>70</th>\n",
       "      <td>Vaibhav Tatwawadi shares a picture with 'legen...</td>\n",
       "      <td>Entertainment</td>\n",
       "    </tr>\n",
       "    <tr>\n",
       "      <th>71</th>\n",
       "      <td>'Kantara' to re-release in theatres after Nati...</td>\n",
       "      <td>Entertainment</td>\n",
       "    </tr>\n",
       "    <tr>\n",
       "      <th>72</th>\n",
       "      <td>Michael Keaton on 'Dumbo': I was clueless</td>\n",
       "      <td>Entertainment</td>\n",
       "    </tr>\n",
       "    <tr>\n",
       "      <th>73</th>\n",
       "      <td>Rajkummar would love to work with wife, 'great...</td>\n",
       "      <td>Entertainment</td>\n",
       "    </tr>\n",
       "    <tr>\n",
       "      <th>74</th>\n",
       "      <td>Ryan Reynolds bats for Oscars award category f...</td>\n",
       "      <td>Entertainment</td>\n",
       "    </tr>\n",
       "  </tbody>\n",
       "</table>\n",
       "<p>75 rows × 2 columns</p>\n",
       "</div>"
      ],
      "text/plain": [
       "                                             Headline          Genre\n",
       "0     Jonita 'excited' to kick-off Dua Lipa's concert  Entertainment\n",
       "1   Kangana: This country will never stop triviali...  Entertainment\n",
       "2                 2024 MTV VMAs: All you need to know  Entertainment\n",
       "3   Karisma ’s latest look is perfect for the fest...  Entertainment\n",
       "4     ISIS targeted 'thousands' at Swift concert: CIA  Entertainment\n",
       "..                                                ...            ...\n",
       "70  Vaibhav Tatwawadi shares a picture with 'legen...  Entertainment\n",
       "71  'Kantara' to re-release in theatres after Nati...  Entertainment\n",
       "72          Michael Keaton on 'Dumbo': I was clueless  Entertainment\n",
       "73  Rajkummar would love to work with wife, 'great...  Entertainment\n",
       "74  Ryan Reynolds bats for Oscars award category f...  Entertainment\n",
       "\n",
       "[75 rows x 2 columns]"
      ]
     },
     "execution_count": 6,
     "metadata": {},
     "output_type": "execute_result"
    }
   ],
   "source": [
    "df_ent = pd.DataFrame(headline_ent, columns=['Headline'])\n",
    "df_ent['Genre'] = 'Entertainment'\n",
    "df_ent"
   ]
  },
  {
   "cell_type": "code",
   "execution_count": 84,
   "metadata": {},
   "outputs": [],
   "source": [
    "# headlines= soup.find_all(attrs= {'class' : 'CRKrj'})\n",
    "# for headline in headlines:\n",
    "#     print(headline.text)"
   ]
  },
  {
   "cell_type": "code",
   "execution_count": 73,
   "metadata": {},
   "outputs": [],
   "source": [
    "# headlines = soup.find_all(attrs={'class': 'CRKrj'})\n",
    "# headline_list = []\n",
    "# for headline in headlines:\n",
    "#     headline_list.append(headline.text.strip())\n",
    "\n",
    "# # concatenate the headlines into a single string\n",
    "# headline_string = \"\\n\".join(headline_list)\n",
    "# print(headline_string)"
   ]
  },
  {
   "cell_type": "markdown",
   "metadata": {},
   "source": [
    "-------------------------------------"
   ]
  },
  {
   "cell_type": "markdown",
   "metadata": {},
   "source": [
    "### Sports Shell"
   ]
  },
  {
   "cell_type": "code",
   "execution_count": 43,
   "metadata": {},
   "outputs": [],
   "source": [
    "# url1 = \"https://timesofindia.indiatimes.com/sports\" #WavNE \n",
    "# url1 = \"https://timesofindia.indiatimes.com/sports/cricket\" #h5\n",
    "# url1 = \"https://timesofindia.indiatimes.com/sports/cricket/india-tour-of-sri-lanka-2024\" #lSIdy col_l_6 col_m_6\n",
    "url1 = \"https://timesofindia.indiatimes.com/sports/cricket/icc-mens-t20-world-cup\"  #h5\n",
    "# url1 = \"https://timesofindia.indiatimes.com/sports/cricket/icc-mens-t20-world-cup/schedule\"   #YpkeL    "
   ]
  },
  {
   "cell_type": "code",
   "execution_count": 44,
   "metadata": {},
   "outputs": [],
   "source": [
    "page1 = requests.get(url1)"
   ]
  },
  {
   "cell_type": "code",
   "execution_count": 45,
   "metadata": {},
   "outputs": [],
   "source": [
    "soup = BeautifulSoup(page1.content, 'html.parser')"
   ]
  },
  {
   "cell_type": "code",
   "execution_count": 47,
   "metadata": {},
   "outputs": [
    {
     "name": "stdout",
     "output_type": "stream",
     "text": [
      "[\"T20 World Cup: ICC rates New York, Tarouba pitches as 'unsatisfactory'\", \"'11 men healed us': Fans celebrate 1 month of India's title win\", \"'If you want to grow the sport...': Dravid defends US leg of T20 WC\", 'Watch: SKY talks about his T20 WC winning catch against SA']\n"
     ]
    }
   ],
   "source": [
    "# headlines = soup.find_all(attrs= {'class': 'WavNE'})\n",
    "# headlines = soup.find_all(attrs= {'class': 'YpkeL'})\n",
    "headlines = soup.find_all('h5')\n",
    "# headlines = soup.find_all(class_ ='lSIdy col_l_6 col_m_6')\n",
    "# headlines = soup.find_all(class_=\"cartHolder bigCart track timeAgo articleClick\")\n",
    "headline_sport5 = []\n",
    "for headline in headlines:\n",
    "    headline_sport5.append(headline.text)\n",
    "print(headline_sport5)"
   ]
  },
  {
   "cell_type": "code",
   "execution_count": 48,
   "metadata": {},
   "outputs": [],
   "source": [
    "headline_sport  = headline_sport1 + headline_sport2 + headline_sport3  + headline_sport4 + headline_sport5"
   ]
  },
  {
   "cell_type": "code",
   "execution_count": 49,
   "metadata": {},
   "outputs": [
    {
     "data": {
      "text/html": [
       "<div>\n",
       "<style scoped>\n",
       "    .dataframe tbody tr th:only-of-type {\n",
       "        vertical-align: middle;\n",
       "    }\n",
       "\n",
       "    .dataframe tbody tr th {\n",
       "        vertical-align: top;\n",
       "    }\n",
       "\n",
       "    .dataframe thead th {\n",
       "        text-align: right;\n",
       "    }\n",
       "</style>\n",
       "<table border=\"1\" class=\"dataframe\">\n",
       "  <thead>\n",
       "    <tr style=\"text-align: right;\">\n",
       "      <th></th>\n",
       "      <th>Headline</th>\n",
       "      <th>Genre</th>\n",
       "    </tr>\n",
       "  </thead>\n",
       "  <tbody>\n",
       "    <tr>\n",
       "      <th>0</th>\n",
       "      <td>'50% confirmed India is coming to Pakistan for...</td>\n",
       "      <td>Sports</td>\n",
       "    </tr>\n",
       "    <tr>\n",
       "      <th>1</th>\n",
       "      <td>Paralympics Live: Shuttlers Palak, Sukant, Suh...</td>\n",
       "      <td>Sports</td>\n",
       "    </tr>\n",
       "    <tr>\n",
       "      <th>2</th>\n",
       "      <td>Watch: Frustrated SKY apologises for his 'dang...</td>\n",
       "      <td>Sports</td>\n",
       "    </tr>\n",
       "    <tr>\n",
       "      <th>3</th>\n",
       "      <td>DC player sees himself as future replacement f...</td>\n",
       "      <td>Sports</td>\n",
       "    </tr>\n",
       "    <tr>\n",
       "      <th>4</th>\n",
       "      <td>Mbappe's X account hacked; posts on Messi, Ron...</td>\n",
       "      <td>Sports</td>\n",
       "    </tr>\n",
       "    <tr>\n",
       "      <th>...</th>\n",
       "      <td>...</td>\n",
       "      <td>...</td>\n",
       "    </tr>\n",
       "    <tr>\n",
       "      <th>129</th>\n",
       "      <td>Cricket Videos05:05Shubman Gill, Yashasvi Jais...</td>\n",
       "      <td>Sports</td>\n",
       "    </tr>\n",
       "    <tr>\n",
       "      <th>130</th>\n",
       "      <td>T20 World Cup: ICC rates New York, Tarouba pit...</td>\n",
       "      <td>Sports</td>\n",
       "    </tr>\n",
       "    <tr>\n",
       "      <th>131</th>\n",
       "      <td>'11 men healed us': Fans celebrate 1 month of ...</td>\n",
       "      <td>Sports</td>\n",
       "    </tr>\n",
       "    <tr>\n",
       "      <th>132</th>\n",
       "      <td>'If you want to grow the sport...': Dravid def...</td>\n",
       "      <td>Sports</td>\n",
       "    </tr>\n",
       "    <tr>\n",
       "      <th>133</th>\n",
       "      <td>Watch: SKY talks about his T20 WC winning catc...</td>\n",
       "      <td>Sports</td>\n",
       "    </tr>\n",
       "  </tbody>\n",
       "</table>\n",
       "<p>134 rows × 2 columns</p>\n",
       "</div>"
      ],
      "text/plain": [
       "                                              Headline   Genre\n",
       "0    '50% confirmed India is coming to Pakistan for...  Sports\n",
       "1    Paralympics Live: Shuttlers Palak, Sukant, Suh...  Sports\n",
       "2    Watch: Frustrated SKY apologises for his 'dang...  Sports\n",
       "3    DC player sees himself as future replacement f...  Sports\n",
       "4    Mbappe's X account hacked; posts on Messi, Ron...  Sports\n",
       "..                                                 ...     ...\n",
       "129  Cricket Videos05:05Shubman Gill, Yashasvi Jais...  Sports\n",
       "130  T20 World Cup: ICC rates New York, Tarouba pit...  Sports\n",
       "131  '11 men healed us': Fans celebrate 1 month of ...  Sports\n",
       "132  'If you want to grow the sport...': Dravid def...  Sports\n",
       "133  Watch: SKY talks about his T20 WC winning catc...  Sports\n",
       "\n",
       "[134 rows x 2 columns]"
      ]
     },
     "execution_count": 49,
     "metadata": {},
     "output_type": "execute_result"
    }
   ],
   "source": [
    "df_sports = pd.DataFrame(headline_sport, columns=['Headline'])\n",
    "df_sports['Genre'] = 'Sports'\n",
    "\n",
    "df_sports"
   ]
  },
  {
   "cell_type": "markdown",
   "metadata": {},
   "source": [
    "-------------------------------"
   ]
  },
  {
   "cell_type": "markdown",
   "metadata": {},
   "source": [
    "### Technology Shell"
   ]
  },
  {
   "cell_type": "code",
   "execution_count": 50,
   "metadata": {},
   "outputs": [],
   "source": [
    "# url2 = \"https://timesofindia.indiatimes.com/technology\"\n",
    "# url2 = \"https://timesofindia.indiatimes.com/technology/tech-tips\"\n",
    "# url2 = \"https://timesofindia.indiatimes.com/technology/tech-news\"\n",
    "# url2 = \"https://timesofindia.indiatimes.com/technology/mobiles-tabs\"\n",
    "# url2 = \"https://timesofindia.indiatimes.com/technology/gaming\"\n",
    "# url2 = \"https://timesofindia.indiatimes.com/technology/wearables\"\n",
    "# url2 = \"https://timesofindia.indiatimes.com/technology/social\"\n",
    "# url2 = \"https://timesofindia.indiatimes.com/technology/audio\"\n",
    "# url2 = \"https://timesofindia.indiatimes.com/technology/laptops-pc\"\n",
    "# url2 = \"https://timesofindia.indiatimes.com/technology/appliances\"\n",
    "url2 = \"https://timesofindia.indiatimes.com/technology/reviews\""
   ]
  },
  {
   "cell_type": "code",
   "execution_count": 51,
   "metadata": {},
   "outputs": [],
   "source": [
    "page2 = requests.get(url2)"
   ]
  },
  {
   "cell_type": "code",
   "execution_count": 52,
   "metadata": {},
   "outputs": [],
   "source": [
    "soup = BeautifulSoup(page2.content, 'html.parser')"
   ]
  },
  {
   "cell_type": "code",
   "execution_count": 57,
   "metadata": {},
   "outputs": [
    {
     "name": "stdout",
     "output_type": "stream",
     "text": [
      "['Sony Bravia 7 series TV review: Sets a new benchmark', 'Boult Mustang Derby TWS review: High on features, low on price', 'LG MyView 27 Monitor review: Smart choice for most', 'Asus ROG Ally X review: An X-cellent gaming handheld']\n"
     ]
    }
   ],
   "source": [
    "headlines = soup.find_all('h5')\n",
    "headline_tech = []\n",
    "for headline in headlines:\n",
    "    headline_tech.append(headline.text)\n",
    "print(headline_tech)"
   ]
  },
  {
   "cell_type": "code",
   "execution_count": 404,
   "metadata": {},
   "outputs": [],
   "source": [
    "headline_tech = headline_tech1 + headline_tech2 + headline_tech3 + headline_tech4 + headline_tech5 + headline_tech6 + headline_tech7 + headline_tech8 + headline_tech9 + headline_tech10 + headline_tech11"
   ]
  },
  {
   "cell_type": "code",
   "execution_count": 59,
   "metadata": {},
   "outputs": [
    {
     "data": {
      "text/html": [
       "<div>\n",
       "<style scoped>\n",
       "    .dataframe tbody tr th:only-of-type {\n",
       "        vertical-align: middle;\n",
       "    }\n",
       "\n",
       "    .dataframe tbody tr th {\n",
       "        vertical-align: top;\n",
       "    }\n",
       "\n",
       "    .dataframe thead th {\n",
       "        text-align: right;\n",
       "    }\n",
       "</style>\n",
       "<table border=\"1\" class=\"dataframe\">\n",
       "  <thead>\n",
       "    <tr style=\"text-align: right;\">\n",
       "      <th></th>\n",
       "      <th>Headline</th>\n",
       "      <th>Genre</th>\n",
       "    </tr>\n",
       "  </thead>\n",
       "  <tbody>\n",
       "    <tr>\n",
       "      <th>0</th>\n",
       "      <td>Sony Bravia 7 series TV review: Sets a new ben...</td>\n",
       "      <td>Technology</td>\n",
       "    </tr>\n",
       "    <tr>\n",
       "      <th>1</th>\n",
       "      <td>Boult Mustang Derby TWS review: High on featur...</td>\n",
       "      <td>Technology</td>\n",
       "    </tr>\n",
       "    <tr>\n",
       "      <th>2</th>\n",
       "      <td>LG MyView 27 Monitor review: Smart choice for ...</td>\n",
       "      <td>Technology</td>\n",
       "    </tr>\n",
       "    <tr>\n",
       "      <th>3</th>\n",
       "      <td>Asus ROG Ally X review: An X-cellent gaming ha...</td>\n",
       "      <td>Technology</td>\n",
       "    </tr>\n",
       "  </tbody>\n",
       "</table>\n",
       "</div>"
      ],
      "text/plain": [
       "                                            Headline       Genre\n",
       "0  Sony Bravia 7 series TV review: Sets a new ben...  Technology\n",
       "1  Boult Mustang Derby TWS review: High on featur...  Technology\n",
       "2  LG MyView 27 Monitor review: Smart choice for ...  Technology\n",
       "3  Asus ROG Ally X review: An X-cellent gaming ha...  Technology"
      ]
     },
     "execution_count": 59,
     "metadata": {},
     "output_type": "execute_result"
    }
   ],
   "source": [
    "df_tech = pd.DataFrame(headline_tech, columns=['Headline'])\n",
    "df_tech['Genre'] = 'Technology'\n",
    "\n",
    "df_tech.tail(4)"
   ]
  },
  {
   "cell_type": "markdown",
   "metadata": {},
   "source": [
    "----------------------------------"
   ]
  },
  {
   "cell_type": "markdown",
   "metadata": {},
   "source": [
    "#### Business Shell"
   ]
  },
  {
   "cell_type": "code",
   "execution_count": 276,
   "metadata": {},
   "outputs": [],
   "source": [
    "# urll = \"https://timesofindia.indiatimes.com/business\"\n",
    "# urll = \"https://timesofindia.indiatimes.com/business/budget\"\n",
    "# urll = \"https://timesofindia.indiatimes.com/business/financial-literacy\"\n",
    "# urll = \"https://timesofindia.indiatimes.com/business/india-business\"\n",
    "# urll = \"https://timesofindia.indiatimes.com/business/international-business\"\n",
    "# urll = \"https://timesofindia.indiatimes.com/business/stock-market\"\n",
    "# urll = \"https://timesofindia.indiatimes.com/business/cryptocurrency\"\n",
    "\n",
    "# urll = \"https://timesofindia.indiatimes.com/business/personal-finance\" #8 urll\n",
    "\n",
    "urll = \"https://timesofindia.indiatimes.com/business/india-business/sensex\""
   ]
  },
  {
   "cell_type": "markdown",
   "metadata": {},
   "source": [
    "<div class=\"KklOh\">Loan borrowers take note! Now, know all-inclusive interest cost for your loan, RBI announces new measures - all about Key Fact Statement</div>"
   ]
  },
  {
   "cell_type": "code",
   "execution_count": 277,
   "metadata": {},
   "outputs": [],
   "source": [
    "pagee = requests.get(urll)"
   ]
  },
  {
   "cell_type": "code",
   "execution_count": 278,
   "metadata": {},
   "outputs": [],
   "source": [
    "soup = BeautifulSoup(pagee.content, 'html.parser')"
   ]
  },
  {
   "cell_type": "code",
   "execution_count": 279,
   "metadata": {},
   "outputs": [
    {
     "name": "stdout",
     "output_type": "stream",
     "text": [
      "[\"Sensex nears 79,000, RIL's mcap back above Rs 20 lakh croreThe stock market witnessed significant movements today, with various sectors experiencing both growth and setbacks. From blue-chip rallies to individual stock announcements, the day was filled with dynamic market activities.\", 'Sensex breaches 78,000 mark for 1st time, Nifty at record high as bank stocks surge', 'Sensex closes 523 points lower on profit taking', 'Sovereign Gold Bonds to be issued from February 12-16: Invest in gold with tax benefits and interest', 'Bank of India MF aims to raise Rs 500 crore from multi-asset allocation fund in NFO period', '38:58Money Mantra Ep 5 | Labour Law Advisor founders Rishabh Jain and Mandeep Gill share their content creation journey', '38:58Money Mantra Ep 5 | Labour Law Advisor founders Rishabh Jain and Mandeep Gill share their content creation journey', 'Dhan Ki Baat | Role of policy making in financial literacy', '19:03Money Mantra Ep 4 | How content creator Neha Nagar mixes finance education with entertainment', '22:29Dhan Ki Baat | Understanding how youth perceive financial literacy', '26:18Money Mantra Ep 3 | How Prakash Gaba started investing at the age of 47', 'Dhan Ki Baat | Decoding the next decade of India’s stock market']\n"
     ]
    }
   ],
   "source": [
    "headlines = soup.find_all(class_='Hn2z7 undefined')\n",
    "# headlines = soup.find_all(class_='KklOh') #8 urll\n",
    "headline_buss9= []\n",
    "for headline in headlines:\n",
    "    headline_buss9.append(headline.text)\n",
    "print(headline_buss9)"
   ]
  },
  {
   "cell_type": "code",
   "execution_count": 280,
   "metadata": {},
   "outputs": [],
   "source": [
    "headline_business = headline_buss1 + headline_buss2 + headline_buss3 + headline_buss4 + headline_buss5 + headline_buss6 + headline_buss7  + headline_buss8 + headline_buss9 "
   ]
  },
  {
   "cell_type": "code",
   "execution_count": 421,
   "metadata": {},
   "outputs": [
    {
     "data": {
      "text/html": [
       "<div>\n",
       "<style scoped>\n",
       "    .dataframe tbody tr th:only-of-type {\n",
       "        vertical-align: middle;\n",
       "    }\n",
       "\n",
       "    .dataframe tbody tr th {\n",
       "        vertical-align: top;\n",
       "    }\n",
       "\n",
       "    .dataframe thead th {\n",
       "        text-align: right;\n",
       "    }\n",
       "</style>\n",
       "<table border=\"1\" class=\"dataframe\">\n",
       "  <thead>\n",
       "    <tr style=\"text-align: right;\">\n",
       "      <th></th>\n",
       "      <th>Headline</th>\n",
       "      <th>Genre</th>\n",
       "    </tr>\n",
       "  </thead>\n",
       "  <tbody>\n",
       "    <tr>\n",
       "      <th>0</th>\n",
       "      <td>Stock market today: BSE Sensex opens in red; N...</td>\n",
       "      <td>Business</td>\n",
       "    </tr>\n",
       "    <tr>\n",
       "      <th>1</th>\n",
       "      <td>Private capex set to surge 54% to Rs 2.5 lakh ...</td>\n",
       "      <td>Business</td>\n",
       "    </tr>\n",
       "    <tr>\n",
       "      <th>2</th>\n",
       "      <td>Rising aspirations behind deposit shift, says ...</td>\n",
       "      <td>Business</td>\n",
       "    </tr>\n",
       "    <tr>\n",
       "      <th>3</th>\n",
       "      <td>Why it’s time to explore bold &amp; path-breaking ...</td>\n",
       "      <td>Business</td>\n",
       "    </tr>\n",
       "    <tr>\n",
       "      <th>4</th>\n",
       "      <td>Budget 2024 three times UPA's last Budget in 2...</td>\n",
       "      <td>Business</td>\n",
       "    </tr>\n",
       "    <tr>\n",
       "      <th>...</th>\n",
       "      <td>...</td>\n",
       "      <td>...</td>\n",
       "    </tr>\n",
       "    <tr>\n",
       "      <th>269</th>\n",
       "      <td>Dhan Ki Baat | Role of policy making in financ...</td>\n",
       "      <td>Business</td>\n",
       "    </tr>\n",
       "    <tr>\n",
       "      <th>270</th>\n",
       "      <td>19:03Money Mantra Ep 4 | How content creator N...</td>\n",
       "      <td>Business</td>\n",
       "    </tr>\n",
       "    <tr>\n",
       "      <th>271</th>\n",
       "      <td>22:29Dhan Ki Baat | Understanding how youth pe...</td>\n",
       "      <td>Business</td>\n",
       "    </tr>\n",
       "    <tr>\n",
       "      <th>272</th>\n",
       "      <td>26:18Money Mantra Ep 3 | How Prakash Gaba star...</td>\n",
       "      <td>Business</td>\n",
       "    </tr>\n",
       "    <tr>\n",
       "      <th>273</th>\n",
       "      <td>Dhan Ki Baat | Decoding the next decade of Ind...</td>\n",
       "      <td>Business</td>\n",
       "    </tr>\n",
       "  </tbody>\n",
       "</table>\n",
       "<p>274 rows × 2 columns</p>\n",
       "</div>"
      ],
      "text/plain": [
       "                                              Headline     Genre\n",
       "0    Stock market today: BSE Sensex opens in red; N...  Business\n",
       "1    Private capex set to surge 54% to Rs 2.5 lakh ...  Business\n",
       "2    Rising aspirations behind deposit shift, says ...  Business\n",
       "3    Why it’s time to explore bold & path-breaking ...  Business\n",
       "4    Budget 2024 three times UPA's last Budget in 2...  Business\n",
       "..                                                 ...       ...\n",
       "269  Dhan Ki Baat | Role of policy making in financ...  Business\n",
       "270  19:03Money Mantra Ep 4 | How content creator N...  Business\n",
       "271  22:29Dhan Ki Baat | Understanding how youth pe...  Business\n",
       "272  26:18Money Mantra Ep 3 | How Prakash Gaba star...  Business\n",
       "273  Dhan Ki Baat | Decoding the next decade of Ind...  Business\n",
       "\n",
       "[274 rows x 2 columns]"
      ]
     },
     "execution_count": 421,
     "metadata": {},
     "output_type": "execute_result"
    }
   ],
   "source": [
    "df_business = pd.DataFrame(headline_business, columns=['Headline'])\n",
    "df_business['Genre'] = 'Business'\n",
    "\n",
    "df_business"
   ]
  },
  {
   "cell_type": "markdown",
   "metadata": {},
   "source": [
    "-------------------------------"
   ]
  },
  {
   "cell_type": "markdown",
   "metadata": {},
   "source": [
    "#### Life-Style Shell"
   ]
  },
  {
   "cell_type": "code",
   "execution_count": 147,
   "metadata": {},
   "outputs": [],
   "source": [
    "# url4 = \"https://timesofindia.indiatimes.com/life-style?\"\n",
    "# url4 = \"https://timesofindia.indiatimes.com/life-style/relationships\""
   ]
  },
  {
   "cell_type": "code",
   "execution_count": 148,
   "metadata": {},
   "outputs": [],
   "source": [
    "page4 = requests.get(url4)"
   ]
  },
  {
   "cell_type": "code",
   "execution_count": 149,
   "metadata": {},
   "outputs": [],
   "source": [
    "soup = BeautifulSoup(page4.content, 'html.parser')"
   ]
  },
  {
   "cell_type": "code",
   "execution_count": 150,
   "metadata": {},
   "outputs": [
    {
     "name": "stdout",
     "output_type": "stream",
     "text": [
      "[]\n"
     ]
    }
   ],
   "source": [
    "headlines = soup.find_all('h3')\n",
    "headline_life4 = []\n",
    "for headline in headlines:\n",
    "    headline_life4.append(headline.text)\n",
    "print(headline_life4) "
   ]
  },
  {
   "cell_type": "code",
   "execution_count": 158,
   "metadata": {},
   "outputs": [],
   "source": [
    "headline_life = headline_life1 + headline_life2 "
   ]
  },
  {
   "cell_type": "code",
   "execution_count": 422,
   "metadata": {},
   "outputs": [
    {
     "data": {
      "text/html": [
       "<div>\n",
       "<style scoped>\n",
       "    .dataframe tbody tr th:only-of-type {\n",
       "        vertical-align: middle;\n",
       "    }\n",
       "\n",
       "    .dataframe tbody tr th {\n",
       "        vertical-align: top;\n",
       "    }\n",
       "\n",
       "    .dataframe thead th {\n",
       "        text-align: right;\n",
       "    }\n",
       "</style>\n",
       "<table border=\"1\" class=\"dataframe\">\n",
       "  <thead>\n",
       "    <tr style=\"text-align: right;\">\n",
       "      <th></th>\n",
       "      <th>Headline</th>\n",
       "      <th>Genre</th>\n",
       "    </tr>\n",
       "  </thead>\n",
       "  <tbody>\n",
       "    <tr>\n",
       "      <th>0</th>\n",
       "      <td>Select a City</td>\n",
       "      <td>Life-Style</td>\n",
       "    </tr>\n",
       "    <tr>\n",
       "      <th>1</th>\n",
       "      <td>Is bad mood affecting your work or daily life?</td>\n",
       "      <td>Life-Style</td>\n",
       "    </tr>\n",
       "    <tr>\n",
       "      <th>2</th>\n",
       "      <td>11 minutes of walking can unlock these benefits</td>\n",
       "      <td>Life-Style</td>\n",
       "    </tr>\n",
       "    <tr>\n",
       "      <th>3</th>\n",
       "      <td>8 reasons to start, finish your day with jeera...</td>\n",
       "      <td>Life-Style</td>\n",
       "    </tr>\n",
       "    <tr>\n",
       "      <th>4</th>\n",
       "      <td>All about Neem Karoli baba</td>\n",
       "      <td>Life-Style</td>\n",
       "    </tr>\n",
       "  </tbody>\n",
       "</table>\n",
       "</div>"
      ],
      "text/plain": [
       "                                            Headline       Genre\n",
       "0                                      Select a City  Life-Style\n",
       "1     Is bad mood affecting your work or daily life?  Life-Style\n",
       "2    11 minutes of walking can unlock these benefits  Life-Style\n",
       "3  8 reasons to start, finish your day with jeera...  Life-Style\n",
       "4                         All about Neem Karoli baba  Life-Style"
      ]
     },
     "execution_count": 422,
     "metadata": {},
     "output_type": "execute_result"
    }
   ],
   "source": [
    "df_life = pd.DataFrame(headline_life, columns=['Headline'])\n",
    "df_life['Genre'] = 'Life-Style'\n",
    "\n",
    "df_life.head()"
   ]
  },
  {
   "cell_type": "markdown",
   "metadata": {},
   "source": [
    "------------------------"
   ]
  },
  {
   "cell_type": "markdown",
   "metadata": {},
   "source": [
    "#### Education Shell"
   ]
  },
  {
   "cell_type": "code",
   "execution_count": 72,
   "metadata": {},
   "outputs": [],
   "source": [
    "url5 = \"https://timesofindia.indiatimes.com/education/careers\""
   ]
  },
  {
   "cell_type": "code",
   "execution_count": 77,
   "metadata": {},
   "outputs": [],
   "source": [
    "url6 = \"https://timesofindia.indiatimes.com/education/colleges\""
   ]
  },
  {
   "cell_type": "code",
   "execution_count": 127,
   "metadata": {},
   "outputs": [],
   "source": [
    "# url7 = \"https://timesofindia.indiatimes.com/education/news\"\n",
    "# url7 = \"https://timesofindia.indiatimes.com/education/exams\"\n",
    "# url7 = \"https://timesofindia.indiatimes.com/education/results\"\n",
    "# url7 = \"https://timesofindia.indiatimes.com/education/jobs\"\n",
    "url7 = \"https://timesofindia.indiatimes.com/education/brain-teaser\""
   ]
  },
  {
   "cell_type": "code",
   "execution_count": 128,
   "metadata": {},
   "outputs": [],
   "source": [
    "page5 = requests.get(url7)"
   ]
  },
  {
   "cell_type": "code",
   "execution_count": 129,
   "metadata": {},
   "outputs": [],
   "source": [
    "soup = BeautifulSoup(page5.content, 'html.parser')"
   ]
  },
  {
   "cell_type": "code",
   "execution_count": 130,
   "metadata": {},
   "outputs": [
    {
     "name": "stdout",
     "output_type": "stream",
     "text": [
      "['Observation challenge: can you spot the missing number in 10 seconds or less?', 'Optical illusion: Only the sharpest minds will succeed in this 10 second challenge', 'Visual Brain Teaser: Can You Spot the Animals with Empty Glasses in this Photo?']\n"
     ]
    }
   ],
   "source": [
    "headlines = soup.find_all(class_ = 'sNF1c')\n",
    "headline_edu11 = []\n",
    "for headline in headlines:\n",
    "    headline_edu11.append(headline.text)\n",
    "print(headline_edu11) "
   ]
  },
  {
   "cell_type": "code",
   "execution_count": 123,
   "metadata": {},
   "outputs": [],
   "source": [
    "url7 = \"https://timesofindia.indiatimes.com/education/web-stories\""
   ]
  },
  {
   "cell_type": "code",
   "execution_count": 120,
   "metadata": {},
   "outputs": [
    {
     "name": "stdout",
     "output_type": "stream",
     "text": [
      "['Bad at Math? Try These 8 Strategies to Crack the Quantitative Section of Any Exam', '9 Key differences between Indian Navy and Merchant Navy: Which pays better?', '8 skills that can make you the CEO of a company', \"Words That Confuse: A Student's Guide to Avoiding Common Language Pitfalls\", '8 secret mantras to beat stress at the workplace', \"From vibing to bussin', amp up your Gen Z vocabulary with these words\", '9 proven tips that will help you improve your IELTS reading speed and score', '7 habits that will make you smarter and more successful', 'Why do successful people start their day at 5 AM? 8 reasons for students to consider', \"How to say 'I don't know' in a job interview: Here are 7 alternate phrases you can use\", '10 Shakespeare quotes to motivate students', 'Fostering Integrity: 10 Strategies to Instil Honesty in Students', '8 Easiest programming languages you can learn on your own', '8 Common job search mistakes you must avoid', \"8 Warning Signs That You're Sabotaging Your Own Success\", '10 science-backed tips to boost your performance and top the toughest exams', 'Check 10 best colleges of DU according to NIRF 2024 rankings', '\\u200b10 Reasons Why Learning a Second Language at an Early Age Benefits Students\\u200b', '9 smart phrases that will make you stand out in class among peers', 'Master Your Vocabulary: 8 Unique Words for Emotions You Can Feel But Can’t Describe', '\\u200b10 Surprising Habits of Toppers You Can Start Following From Today', '\\u200b10 Challenges Students Must Tackle Before Studying Abroad\\u200b', \"Independence Day quiz for students: 5 quick questions about India's freedom movement\", '9 ways you can maximise the benefits of online learning', 'Top 9 institutes of Delhi across according to NIRF 2024', 'Worried that AI might take your job? These 8 human skills will make you irreplaceable', '10 Reasons Why AI Data Science and Machine Learning Are Not the Same', 'NIRF Rankings 2024: Top 7 Engineering Institutes in Delhi', \"10 school field trips you shouldn't miss\", '9 essential soft-skills top recruiters look for in candidates and how to inculcate them', '\\u200b10 Ways How Students Can Quickly Master a New Language\\u200b', '8 Expert-backed Tips to Build Effective Study Habits', 'Independence Day speech: Simple yet impactful ideas for students', 'Preparing for JEE from Class 10: X strategies for assured success', '8 Smart Tips for Identifying and Avoiding Online Part-Time Job Scams', '9 Insider Secrets to Secure Your Dream Job at Google', '\\u200b10 tricks to sharpen your classroom focus and boost engagement', '9 Important Documents Required for Student Visas', 'Enhance Your Communication Skill: 10 Powerful Words Instead of Clichés', '10 Hidden Cognitive Skills Good Students Have Been Using All Along', '10 Effortless Strategies for Students to Enhance Their Public Speaking Skills', 'Independence Day 2024: 8 thought-provoking essay ideas for students', 'GK for Students: Do You Know the Scientific Names of These Common Plants?', '10 Fun and Productive Ways Students Can Make the Most of Their Weekends', '9 Reasons Why Not Knowing Your Mother Tongue Will Limit Your Career Growth', '10 Books on Indian Independence Struggle Every Student Must Read', '9 simple ways students can overcome laziness and increase productivity', '10 Energizing Morning Habits Every Student Needs for a Power-Packed Day']\n"
     ]
    }
   ],
   "source": [
    "headlines = soup.find_all(class_ = 'ObA_k')\n",
    "headline_edu12 = []\n",
    "for headline in headlines:\n",
    "    headline_edu12.append(headline.text)\n",
    "print(headline_edu12) "
   ]
  },
  {
   "cell_type": "code",
   "execution_count": 423,
   "metadata": {},
   "outputs": [
    {
     "data": {
      "text/html": [
       "<div>\n",
       "<style scoped>\n",
       "    .dataframe tbody tr th:only-of-type {\n",
       "        vertical-align: middle;\n",
       "    }\n",
       "\n",
       "    .dataframe tbody tr th {\n",
       "        vertical-align: top;\n",
       "    }\n",
       "\n",
       "    .dataframe thead th {\n",
       "        text-align: right;\n",
       "    }\n",
       "</style>\n",
       "<table border=\"1\" class=\"dataframe\">\n",
       "  <thead>\n",
       "    <tr style=\"text-align: right;\">\n",
       "      <th></th>\n",
       "      <th>Headline</th>\n",
       "      <th>Genre</th>\n",
       "    </tr>\n",
       "  </thead>\n",
       "  <tbody>\n",
       "    <tr>\n",
       "      <th>0</th>\n",
       "      <td>NTA releases NEET UG 2024 result ahead of time...</td>\n",
       "      <td>Education</td>\n",
       "    </tr>\n",
       "    <tr>\n",
       "      <th>1</th>\n",
       "      <td>5 high-return upskilling courses for engineers...</td>\n",
       "      <td>Education</td>\n",
       "    </tr>\n",
       "    <tr>\n",
       "      <th>2</th>\n",
       "      <td>5 summer internships at the country’s top IITs...</td>\n",
       "      <td>Education</td>\n",
       "    </tr>\n",
       "    <tr>\n",
       "      <th>3</th>\n",
       "      <td>UGC NET Exam 2024 on June 18: Section-wise imp...</td>\n",
       "      <td>Education</td>\n",
       "    </tr>\n",
       "    <tr>\n",
       "      <th>4</th>\n",
       "      <td>Want to Pursue Graduation in Karnataka? Here A...</td>\n",
       "      <td>Education</td>\n",
       "    </tr>\n",
       "    <tr>\n",
       "      <th>...</th>\n",
       "      <td>...</td>\n",
       "      <td>...</td>\n",
       "    </tr>\n",
       "    <tr>\n",
       "      <th>64</th>\n",
       "      <td>10 Fun and Productive Ways Students Can Make t...</td>\n",
       "      <td>Education</td>\n",
       "    </tr>\n",
       "    <tr>\n",
       "      <th>65</th>\n",
       "      <td>9 Reasons Why Not Knowing Your Mother Tongue W...</td>\n",
       "      <td>Education</td>\n",
       "    </tr>\n",
       "    <tr>\n",
       "      <th>66</th>\n",
       "      <td>10 Books on Indian Independence Struggle Every...</td>\n",
       "      <td>Education</td>\n",
       "    </tr>\n",
       "    <tr>\n",
       "      <th>67</th>\n",
       "      <td>9 simple ways students can overcome laziness a...</td>\n",
       "      <td>Education</td>\n",
       "    </tr>\n",
       "    <tr>\n",
       "      <th>68</th>\n",
       "      <td>10 Energizing Morning Habits Every Student Nee...</td>\n",
       "      <td>Education</td>\n",
       "    </tr>\n",
       "  </tbody>\n",
       "</table>\n",
       "<p>69 rows × 2 columns</p>\n",
       "</div>"
      ],
      "text/plain": [
       "                                             Headline      Genre\n",
       "0   NTA releases NEET UG 2024 result ahead of time...  Education\n",
       "1   5 high-return upskilling courses for engineers...  Education\n",
       "2   5 summer internships at the country’s top IITs...  Education\n",
       "3   UGC NET Exam 2024 on June 18: Section-wise imp...  Education\n",
       "4   Want to Pursue Graduation in Karnataka? Here A...  Education\n",
       "..                                                ...        ...\n",
       "64  10 Fun and Productive Ways Students Can Make t...  Education\n",
       "65  9 Reasons Why Not Knowing Your Mother Tongue W...  Education\n",
       "66  10 Books on Indian Independence Struggle Every...  Education\n",
       "67  9 simple ways students can overcome laziness a...  Education\n",
       "68  10 Energizing Morning Habits Every Student Nee...  Education\n",
       "\n",
       "[69 rows x 2 columns]"
      ]
     },
     "execution_count": 423,
     "metadata": {},
     "output_type": "execute_result"
    }
   ],
   "source": [
    "headline_edu = headline_edu5 + headline_edu6 + headline_edu7 + headline_edu8 + headline_edu9 + headline_edu10 + headline_edu11 + headline_edu12\n",
    "\n",
    "\n",
    "df_edu = pd.DataFrame(headline_edu, columns=['Headline'])\n",
    "df_edu['Genre'] = 'Education'\n",
    "df_edu"
   ]
  },
  {
   "cell_type": "markdown",
   "metadata": {},
   "source": [
    "-----------------------------------------------------------"
   ]
  },
  {
   "cell_type": "markdown",
   "metadata": {},
   "source": [
    "#### Health Shell"
   ]
  },
  {
   "cell_type": "code",
   "execution_count": 189,
   "metadata": {},
   "outputs": [],
   "source": [
    "# url8 = \"https://timesofindia.indiatimes.com/life-style/health-fitness\"\n",
    "# url8 = \"https://timesofindia.indiatimes.com/life-style/health-fitness/fitness\"\n",
    "# url8 = \"https://timesofindia.indiatimes.com/life-style/health-fitness/diet\"\n",
    "# url8 = \"https://timesofindia.indiatimes.com/life-style/health-fitness/de-stress\"\n",
    "# url8 = \"https://timesofindia.indiatimes.com/life-style/health-fitness/coronavirus\"\n",
    "# url8 = \"https://timesofindia.indiatimes.com/life-style/health-fitness/home-remedies\"\n",
    "# url8 = \"https://timesofindia.indiatimes.com/life-style/health-fitness/weight-loss\"\n",
    "url8 = \"https://timesofindia.indiatimes.com/life-style/health-fitness/wellness\""
   ]
  },
  {
   "cell_type": "code",
   "execution_count": 190,
   "metadata": {},
   "outputs": [],
   "source": [
    "page6 = requests.get(url8)"
   ]
  },
  {
   "cell_type": "code",
   "execution_count": 191,
   "metadata": {},
   "outputs": [],
   "source": [
    "soup = BeautifulSoup(page6.content, 'html.parser')"
   ]
  },
  {
   "cell_type": "code",
   "execution_count": 192,
   "metadata": {},
   "outputs": [
    {
     "name": "stdout",
     "output_type": "stream",
     "text": [
      "['6 yoga poses to reduce neck pain', '6 best yoga poses to get relief from arthritis pain', 'Knee Pain and Mental Health: How stress, anxiety, and chronic pain interact', 'The digital revolution in active physiotherapy: How online treatment is transforming patient care', 'What is palliative care and pain management in lung cancer?', 'How important is Physiotherapy for stroke recovery ?', '5 workstation yoga exercises to increase blood flow and flexibility', 'The essence of Yoga: Unveiling the power of asanas', '6 essential yoga asanas every woman should practice for a healthy life', 'Yoga for stress management in a chaotic world', 'How yoga practices and mindfulness can benefit males battling infertility']\n"
     ]
    }
   ],
   "source": [
    "headlines = soup.find_all(class_='md_news_box')\n",
    "headline_health8 = []\n",
    "for headline in headlines:\n",
    "    headline_health8.append(headline.text)\n",
    "print(headline_health8) "
   ]
  },
  {
   "cell_type": "code",
   "execution_count": 193,
   "metadata": {},
   "outputs": [],
   "source": [
    "headline_health = headline_health1 + headline_health2 + headline_health3 + headline_health4 + headline_health5 + headline_health6 + headline_health7 + headline_health8"
   ]
  },
  {
   "cell_type": "code",
   "execution_count": 424,
   "metadata": {},
   "outputs": [
    {
     "data": {
      "text/html": [
       "<div>\n",
       "<style scoped>\n",
       "    .dataframe tbody tr th:only-of-type {\n",
       "        vertical-align: middle;\n",
       "    }\n",
       "\n",
       "    .dataframe tbody tr th {\n",
       "        vertical-align: top;\n",
       "    }\n",
       "\n",
       "    .dataframe thead th {\n",
       "        text-align: right;\n",
       "    }\n",
       "</style>\n",
       "<table border=\"1\" class=\"dataframe\">\n",
       "  <thead>\n",
       "    <tr style=\"text-align: right;\">\n",
       "      <th></th>\n",
       "      <th>Headline</th>\n",
       "      <th>Genre</th>\n",
       "    </tr>\n",
       "  </thead>\n",
       "  <tbody>\n",
       "    <tr>\n",
       "      <th>0</th>\n",
       "      <td>Select a City</td>\n",
       "      <td>Health</td>\n",
       "    </tr>\n",
       "    <tr>\n",
       "      <th>1</th>\n",
       "      <td>‘Stage 4 cancer but despite drugs and side eff...</td>\n",
       "      <td>Health</td>\n",
       "    </tr>\n",
       "    <tr>\n",
       "      <th>2</th>\n",
       "      <td>‘Risk of Mpox outbreak low in India but we’re ...</td>\n",
       "      <td>Health</td>\n",
       "    </tr>\n",
       "    <tr>\n",
       "      <th>3</th>\n",
       "      <td>New tech that can significantly cut organ wait...</td>\n",
       "      <td>Health</td>\n",
       "    </tr>\n",
       "    <tr>\n",
       "      <th>4</th>\n",
       "      <td>5 everyday morning habits to detox kidney and ...</td>\n",
       "      <td>Health</td>\n",
       "    </tr>\n",
       "    <tr>\n",
       "      <th>...</th>\n",
       "      <td>...</td>\n",
       "      <td>...</td>\n",
       "    </tr>\n",
       "    <tr>\n",
       "      <th>313</th>\n",
       "      <td>5 workstation yoga exercises to increase blood...</td>\n",
       "      <td>Health</td>\n",
       "    </tr>\n",
       "    <tr>\n",
       "      <th>314</th>\n",
       "      <td>The essence of Yoga: Unveiling the power of as...</td>\n",
       "      <td>Health</td>\n",
       "    </tr>\n",
       "    <tr>\n",
       "      <th>315</th>\n",
       "      <td>6 essential yoga asanas every woman should pra...</td>\n",
       "      <td>Health</td>\n",
       "    </tr>\n",
       "    <tr>\n",
       "      <th>316</th>\n",
       "      <td>Yoga for stress management in a chaotic world</td>\n",
       "      <td>Health</td>\n",
       "    </tr>\n",
       "    <tr>\n",
       "      <th>317</th>\n",
       "      <td>How yoga practices and mindfulness can benefit...</td>\n",
       "      <td>Health</td>\n",
       "    </tr>\n",
       "  </tbody>\n",
       "</table>\n",
       "<p>318 rows × 2 columns</p>\n",
       "</div>"
      ],
      "text/plain": [
       "                                              Headline   Genre\n",
       "0                                        Select a City  Health\n",
       "1    ‘Stage 4 cancer but despite drugs and side eff...  Health\n",
       "2    ‘Risk of Mpox outbreak low in India but we’re ...  Health\n",
       "3    New tech that can significantly cut organ wait...  Health\n",
       "4    5 everyday morning habits to detox kidney and ...  Health\n",
       "..                                                 ...     ...\n",
       "313  5 workstation yoga exercises to increase blood...  Health\n",
       "314  The essence of Yoga: Unveiling the power of as...  Health\n",
       "315  6 essential yoga asanas every woman should pra...  Health\n",
       "316      Yoga for stress management in a chaotic world  Health\n",
       "317  How yoga practices and mindfulness can benefit...  Health\n",
       "\n",
       "[318 rows x 2 columns]"
      ]
     },
     "execution_count": 424,
     "metadata": {},
     "output_type": "execute_result"
    }
   ],
   "source": [
    "df_health = pd.DataFrame(headline_health, columns=['Headline'])\n",
    "df_health['Genre'] = 'Health'\n",
    "\n",
    "df_health"
   ]
  },
  {
   "cell_type": "markdown",
   "metadata": {},
   "source": [
    "------------------------------------------"
   ]
  },
  {
   "cell_type": "markdown",
   "metadata": {},
   "source": [
    "### Politics Shell"
   ]
  },
  {
   "cell_type": "code",
   "execution_count": 500,
   "metadata": {},
   "outputs": [],
   "source": [
    "url = 'https://timesofindia.indiatimes.com/politics'\n",
    "# url = 'https://timesofindia.indiatimes.com/politics/news'\n",
    "# url = 'https://timesofindia.indiatimes.com/politics/politics-specials'\n",
    "# url = 'https://timesofindia.indiatimes.com/elections'"
   ]
  },
  {
   "cell_type": "code",
   "execution_count": 501,
   "metadata": {},
   "outputs": [],
   "source": [
    "pag = requests.get(url)"
   ]
  },
  {
   "cell_type": "code",
   "execution_count": 502,
   "metadata": {},
   "outputs": [],
   "source": [
    "soup = BeautifulSoup(pag.content, 'html.parser')"
   ]
  },
  {
   "cell_type": "code",
   "execution_count": 503,
   "metadata": {},
   "outputs": [
    {
     "name": "stdout",
     "output_type": "stream",
     "text": [
      "['TIPRA Motha chief meets Congress leaders as BJP eyes pact', \"LS polls: 'Ahmed Patel's legacy won't go in vain,' Mumtaz says after Cong announces to give late father's seat to AAP\", \"Buzz over Navjot Singh Sidhu's return to BJP, Gurdaspur ticket for Yuvraj Singh\", \"Victory of voters: Sharad Pawar after Supreme Court ruling on his faction's name, symbol\", \"NCP row: Sharad faction can use 'NCP-Sharadchandra Pawar' name till further orders, SC says\", 'Congress ready to fight BJP, Election Commission over Assam Delimitation: Rakibul Hussain', '“Only supporters of ‘Tukde-Tukde’ gang can think of dividing, killing Bharat Mata,” Anurag Thakur', 'Stop useless acting and false anger: Shrinate to Irani', 'When RS Chairman Dhankar appealed to Mallikarjun Kharge to take care of his health', 'Nishikant Dubey hits out at Rahul, Sonia Gandhi and I.N.D.I.A alliance', 'Opposition is underestimating the intelligence of the voters: PM Modi at NDA meet', 'TMC releases manifesto for Tripura assembly polls', 'Tripura polls: Mithun Chakraborty holds road show', 'Sanjay Raut: Government forgot Veer Savarkar', 'Who are Congress’s CM contenders in Himachal Pradesh', 'Karnataka polls: Rebel trouble haunts three major parties', 'Shettar, Savadi exits could dent BJP’s Lingayat support in Karnataka polls', 'Karnataka elections: Unruffled by revolts, BJP banks on 72 first-time candidates', \"Rahul Gandhi's disqualification 'immediate & automatic' despite bail: Legal experts\", \"BJP to begin 'Mission 2024' for UP from January\", 'Despite Punjab, HP, Delhi defeats, BJP gets ready for 2024 riding on G20', \"Nitish Kumar 'Jo Piyega Wo Marega' may come back to haunt him\", 'Satish Chandra Mishra: Has BSP pushed Mayawati’s man Friday to the margin?', \"Mainpuri bypoll: Will chacha-bhatija's 'newfound bonhomie' survive test of time?\", 'Line of No Control', 'Heart of Diplomacy', 'This road rage is really spreading', \"China's Xi JInping\"]\n"
     ]
    }
   ],
   "source": [
    "headlines = soup.find_all(class_ = 'w_tle')\n",
    "# headlines = soup.find_all(class_ = 'WavNE') #3\n",
    "headline_politics0 = []\n",
    "for headline in headlines:\n",
    "    headline_politics0.append(headline.text.strip())\n",
    "print(headline_politics0)"
   ]
  },
  {
   "cell_type": "code",
   "execution_count": 504,
   "metadata": {},
   "outputs": [],
   "source": [
    "headline_politics = headline_politics0 + headline_politics1 + headline_politics2 + headline_politics3"
   ]
  },
  {
   "cell_type": "code",
   "execution_count": 505,
   "metadata": {},
   "outputs": [
    {
     "data": {
      "text/html": [
       "<div>\n",
       "<style scoped>\n",
       "    .dataframe tbody tr th:only-of-type {\n",
       "        vertical-align: middle;\n",
       "    }\n",
       "\n",
       "    .dataframe tbody tr th {\n",
       "        vertical-align: top;\n",
       "    }\n",
       "\n",
       "    .dataframe thead th {\n",
       "        text-align: right;\n",
       "    }\n",
       "</style>\n",
       "<table border=\"1\" class=\"dataframe\">\n",
       "  <thead>\n",
       "    <tr style=\"text-align: right;\">\n",
       "      <th></th>\n",
       "      <th>Headline</th>\n",
       "      <th>Genre</th>\n",
       "    </tr>\n",
       "  </thead>\n",
       "  <tbody>\n",
       "    <tr>\n",
       "      <th>0</th>\n",
       "      <td>TIPRA Motha chief meets Congress leaders as BJ...</td>\n",
       "      <td>Politics</td>\n",
       "    </tr>\n",
       "    <tr>\n",
       "      <th>1</th>\n",
       "      <td>LS polls: 'Ahmed Patel's legacy won't go in va...</td>\n",
       "      <td>Politics</td>\n",
       "    </tr>\n",
       "    <tr>\n",
       "      <th>2</th>\n",
       "      <td>Buzz over Navjot Singh Sidhu's return to BJP, ...</td>\n",
       "      <td>Politics</td>\n",
       "    </tr>\n",
       "    <tr>\n",
       "      <th>3</th>\n",
       "      <td>Victory of voters: Sharad Pawar after Supreme ...</td>\n",
       "      <td>Politics</td>\n",
       "    </tr>\n",
       "    <tr>\n",
       "      <th>4</th>\n",
       "      <td>NCP row: Sharad faction can use 'NCP-Sharadcha...</td>\n",
       "      <td>Politics</td>\n",
       "    </tr>\n",
       "    <tr>\n",
       "      <th>...</th>\n",
       "      <td>...</td>\n",
       "      <td>...</td>\n",
       "    </tr>\n",
       "    <tr>\n",
       "      <th>137</th>\n",
       "      <td>MP Akhilesh Yadav quits Karhal assembly seat</td>\n",
       "      <td>Politics</td>\n",
       "    </tr>\n",
       "    <tr>\n",
       "      <th>138</th>\n",
       "      <td>Andhra, Odisha will usher in record developmen...</td>\n",
       "      <td>Politics</td>\n",
       "    </tr>\n",
       "    <tr>\n",
       "      <th>139</th>\n",
       "      <td>Wayanad or Rae Bareli, which to quit? My call ...</td>\n",
       "      <td>Politics</td>\n",
       "    </tr>\n",
       "    <tr>\n",
       "      <th>140</th>\n",
       "      <td>Modi cabinet 3.0: 39% ministers have criminal ...</td>\n",
       "      <td>Politics</td>\n",
       "    </tr>\n",
       "    <tr>\n",
       "      <th>141</th>\n",
       "      <td>Congress slams PM Modi over Parliamentary Affa...</td>\n",
       "      <td>Politics</td>\n",
       "    </tr>\n",
       "  </tbody>\n",
       "</table>\n",
       "<p>142 rows × 2 columns</p>\n",
       "</div>"
      ],
      "text/plain": [
       "                                              Headline     Genre\n",
       "0    TIPRA Motha chief meets Congress leaders as BJ...  Politics\n",
       "1    LS polls: 'Ahmed Patel's legacy won't go in va...  Politics\n",
       "2    Buzz over Navjot Singh Sidhu's return to BJP, ...  Politics\n",
       "3    Victory of voters: Sharad Pawar after Supreme ...  Politics\n",
       "4    NCP row: Sharad faction can use 'NCP-Sharadcha...  Politics\n",
       "..                                                 ...       ...\n",
       "137       MP Akhilesh Yadav quits Karhal assembly seat  Politics\n",
       "138  Andhra, Odisha will usher in record developmen...  Politics\n",
       "139  Wayanad or Rae Bareli, which to quit? My call ...  Politics\n",
       "140  Modi cabinet 3.0: 39% ministers have criminal ...  Politics\n",
       "141  Congress slams PM Modi over Parliamentary Affa...  Politics\n",
       "\n",
       "[142 rows x 2 columns]"
      ]
     },
     "execution_count": 505,
     "metadata": {},
     "output_type": "execute_result"
    }
   ],
   "source": [
    "df_politics = pd.DataFrame(headline_politics, columns=['Headline'])\n",
    "df_politics['Genre'] = 'Politics'\n",
    "\n",
    "df_politics"
   ]
  },
  {
   "cell_type": "markdown",
   "metadata": {},
   "source": [
    "-----------------------"
   ]
  },
  {
   "cell_type": "markdown",
   "metadata": {},
   "source": [
    "### Religion Shell"
   ]
  },
  {
   "cell_type": "code",
   "execution_count": 446,
   "metadata": {},
   "outputs": [],
   "source": [
    "# urlr = \"https://timesofindia.indiatimes.com/religion\"\n",
    "urlr = \"https://timesofindia.indiatimes.com/religion/rituals-puja\""
   ]
  },
  {
   "cell_type": "code",
   "execution_count": 447,
   "metadata": {},
   "outputs": [],
   "source": [
    "pager = requests.get(urlr)"
   ]
  },
  {
   "cell_type": "code",
   "execution_count": 448,
   "metadata": {},
   "outputs": [],
   "source": [
    "soup = BeautifulSoup(pager.content, 'html.parser')"
   ]
  },
  {
   "cell_type": "code",
   "execution_count": 453,
   "metadata": {},
   "outputs": [
    {
     "name": "stdout",
     "output_type": "stream",
     "text": [
      "['Indian Festivals in 2024', 'Lord Vishnu Names', 'Heramba Sankashti Chaturthi 2024', 'Kajari Teej 2024', 'Narali Purnima 2024', 'Fifth Sawan Somwar 2024', 'Janmashtami 2024', 'Bahula Chaturthi 2024: Date, Time, Rituals and Significance of Bol Chauth', 'Heramba Sankashti Chaturthi 2024: Date, Time, Rituals and Significance of Bhadrapada Sankashti Chaturthi', 'Fifth Sawan Somwar 2024: Date, Rituals and Significance of last Shravan Somwar', 'Narali Purnima 2024: Date, Time, Puja Rituals and Significance', 'Full Moon on August 19, 2024: Step-by-Step Guide to Perform Puja on Shravan Purnima', 'Shravan Purnima 2024: Date, Timings, Puja Rituals and Significance', 'Shravana Putrada Ekadashi 2024: Date, Parana Time, Puja Rituals and Significance', 'Varalakshmi Vratham 2024: Date, Shubh Muhurat, Rituals and Significance', 'When is Shravan Putrada Ekadashi 2024? Date, Rituals and Significance', 'Fourth Mangala Gauri Vrat 2024: Date, Time, Rituals and Significance', 'Fourth Sawan Somwar 2024: Date, Puja Rituals and Significance of Shravan Somwar', 'Skanda Sashti August 2024: Date, Time, Puja Rituals and Significance', 'How to please Lord Shiva in Sawan Month?', 'Vinayak Chaturthi August 2024: Date, Puja Muhurat, Rituals and Significance', 'Third Mangala Gauri Vrat 2024: Date, Timings, Puja Rituals and Significance', 'Sawan Somwar 2024: Date, Time, Rituals and Significance of Third Shravan Somwar', 'Aadi Amavasai 2024: Date, Time, Rituals and Significance', 'Amavasya in August 2024: Date, Time, Rituals and Significance', 'Ekadashi in August 2024: Date, Parana Time, Rituals and Significance', 'Sawan Shivratri 2024: Date, Timings, Puja Rituals and Significance', 'Kamika Ekadashi 2024: Date, Parana Time, Rituals, Story and Significance', 'Second Sawan Somwar 2024: Date, Puja Rituals, Mantra and Significance', 'Kamika Ekadashi 2024: When is Kamika Ekadashi? Date, Time, Puja Rituals and Significance', 'Kalashtami July 2024: Date, Time, Puja Rituals and Significance', 'Sawan Shivratri 2024: When is Sawan Shivratri? Know Date, Time and Significance', 'Benefits of Worshiping Lord Shiva in Sawan Month', 'Gajanana Sankashti Chaturthi 2024: Date, Puja Time, Rituals and Significance', '10 Things to offer on Shivlinga to seek blessings of Lord Shiva', 'Mangala Gauri Vrat 2024: Date, Puja Rituals, Story and Significance', 'Sawan Somwar Vrat Katha and Step by Step Puja Vidhi', 'Satyanarayan Vrat July 2024: Date, Puja Timings, Puja Rituals and Significance of Purnima Vrat', 'Ashadha Purnima 2024: Date, Time, Rituals and Significance of Vyas Purnima', 'Sawan Somwar 2024: Date, Timings, Significance, Fasting Ritual, and Rudrabhishek Guide', \"Sawan 2024 Fasting Rules: Do's and Don'ts to follow during Shravan Month\", 'Jaya Parvati Vrat 2024: Date, Timings, Puja Rituals and Significance', 'Shukra Pradosh Vrat 2024: Date, Time, Puja Muhurat, Rituals and Significance', \"Sawan 2024: Dos and don'ts while fasting during the month of shravan\", 'Chaturmas 2024 Start and End Date: Rituals and Significance', 'Devshayani Ekadashi Parana 2024: Rituals of Breaking Ekadashi Fast', 'Ashadhi Ekadashi 2024: Date, Parana Time, Puja Rituals and Significance of Devshayani Ekadashi', 'Harela 2024: Date, Celebration, Significance and All you need to know', 'Tulsi Worship and Care Guide for Home', 'Devshayani Ekadashi 2024 Date: Parana Time, Puja Rituals, Fasting Rules and Significance of Ashadhi Ekadashi', 'Masik Durgashtami 2024: Date, Shubh Muhurat, Puja Rituals and Significance', 'Sawan 2024 Start and End Date: Puja Rituals and Significance', 'Devshayani Ekadashi 2024: When is Devshayani Ekadashi? Know Date and Parana Time', 'Skanda Sashti July 2024: Date, Time, Rituals and Significance', 'Vinayak Chaturthi July 2024: Date, Time, Rituals and Significance', 'Ashadha Amavasya 2024: Date, Time, Rituals and Significance', 'Budh Pradosh Vrat in July 2024: Date, Time, Puja Rituals and Significance']\n"
     ]
    }
   ],
   "source": [
    "headlines = soup.find_all(class_ = 'w_tle')\n",
    "headline_religion = []\n",
    "for headline in headlines:\n",
    "    headline_religion.append(headline.text)\n",
    "print(headline_religion) "
   ]
  },
  {
   "cell_type": "code",
   "execution_count": 456,
   "metadata": {},
   "outputs": [
    {
     "data": {
      "text/html": [
       "<div>\n",
       "<style scoped>\n",
       "    .dataframe tbody tr th:only-of-type {\n",
       "        vertical-align: middle;\n",
       "    }\n",
       "\n",
       "    .dataframe tbody tr th {\n",
       "        vertical-align: top;\n",
       "    }\n",
       "\n",
       "    .dataframe thead th {\n",
       "        text-align: right;\n",
       "    }\n",
       "</style>\n",
       "<table border=\"1\" class=\"dataframe\">\n",
       "  <thead>\n",
       "    <tr style=\"text-align: right;\">\n",
       "      <th></th>\n",
       "      <th>Headline</th>\n",
       "      <th>Genre</th>\n",
       "    </tr>\n",
       "  </thead>\n",
       "  <tbody>\n",
       "    <tr>\n",
       "      <th>52</th>\n",
       "      <td>Devshayani Ekadashi 2024: When is Devshayani E...</td>\n",
       "      <td>Religion</td>\n",
       "    </tr>\n",
       "    <tr>\n",
       "      <th>53</th>\n",
       "      <td>Skanda Sashti July 2024: Date, Time, Rituals a...</td>\n",
       "      <td>Religion</td>\n",
       "    </tr>\n",
       "    <tr>\n",
       "      <th>54</th>\n",
       "      <td>Vinayak Chaturthi July 2024: Date, Time, Ritua...</td>\n",
       "      <td>Religion</td>\n",
       "    </tr>\n",
       "    <tr>\n",
       "      <th>55</th>\n",
       "      <td>Ashadha Amavasya 2024: Date, Time, Rituals and...</td>\n",
       "      <td>Religion</td>\n",
       "    </tr>\n",
       "    <tr>\n",
       "      <th>56</th>\n",
       "      <td>Budh Pradosh Vrat in July 2024: Date, Time, Pu...</td>\n",
       "      <td>Religion</td>\n",
       "    </tr>\n",
       "  </tbody>\n",
       "</table>\n",
       "</div>"
      ],
      "text/plain": [
       "                                             Headline     Genre\n",
       "52  Devshayani Ekadashi 2024: When is Devshayani E...  Religion\n",
       "53  Skanda Sashti July 2024: Date, Time, Rituals a...  Religion\n",
       "54  Vinayak Chaturthi July 2024: Date, Time, Ritua...  Religion\n",
       "55  Ashadha Amavasya 2024: Date, Time, Rituals and...  Religion\n",
       "56  Budh Pradosh Vrat in July 2024: Date, Time, Pu...  Religion"
      ]
     },
     "execution_count": 456,
     "metadata": {},
     "output_type": "execute_result"
    }
   ],
   "source": [
    "df_religion  = pd.DataFrame(headline_religion, columns=['Headline'])\n",
    "df_religion['Genre'] = 'Religion'\n",
    "\n",
    "df_religion.tail()"
   ]
  },
  {
   "cell_type": "markdown",
   "metadata": {},
   "source": [
    "-----------------------------------"
   ]
  },
  {
   "cell_type": "markdown",
   "metadata": {},
   "source": [
    "## Marge all the df (Data)"
   ]
  },
  {
   "cell_type": "code",
   "execution_count": 506,
   "metadata": {},
   "outputs": [],
   "source": [
    "data = pd.concat([df_ent, df_sports, df_tech, df_business, df_life, df_edu, df_health, df_politics, df_religion], ignore_index=True)\n",
    "\n",
    "data.to_csv('TOI_News.csv', index=False)"
   ]
  },
  {
   "cell_type": "code",
   "execution_count": 507,
   "metadata": {},
   "outputs": [
    {
     "data": {
      "text/html": [
       "<div>\n",
       "<style scoped>\n",
       "    .dataframe tbody tr th:only-of-type {\n",
       "        vertical-align: middle;\n",
       "    }\n",
       "\n",
       "    .dataframe tbody tr th {\n",
       "        vertical-align: top;\n",
       "    }\n",
       "\n",
       "    .dataframe thead th {\n",
       "        text-align: right;\n",
       "    }\n",
       "</style>\n",
       "<table border=\"1\" class=\"dataframe\">\n",
       "  <thead>\n",
       "    <tr style=\"text-align: right;\">\n",
       "      <th></th>\n",
       "      <th>Headline</th>\n",
       "      <th>Genre</th>\n",
       "    </tr>\n",
       "  </thead>\n",
       "  <tbody>\n",
       "    <tr>\n",
       "      <th>0</th>\n",
       "      <td>Here's why Nitesh selected Ranbir for 'Ramayana'</td>\n",
       "      <td>Entertainment</td>\n",
       "    </tr>\n",
       "    <tr>\n",
       "      <th>1</th>\n",
       "      <td>Tanushree Dutta criticises Hema Committee report</td>\n",
       "      <td>Entertainment</td>\n",
       "    </tr>\n",
       "    <tr>\n",
       "      <th>2</th>\n",
       "      <td>Michael C. Hall returns to the ‘Dexter’ universe</td>\n",
       "      <td>Entertainment</td>\n",
       "    </tr>\n",
       "    <tr>\n",
       "      <th>3</th>\n",
       "      <td>Behind the scenes moments with Bollywood stars</td>\n",
       "      <td>Entertainment</td>\n",
       "    </tr>\n",
       "    <tr>\n",
       "      <th>4</th>\n",
       "      <td>Confirmed! JL files for divorce from Ben Affleck</td>\n",
       "      <td>Entertainment</td>\n",
       "    </tr>\n",
       "    <tr>\n",
       "      <th>...</th>\n",
       "      <td>...</td>\n",
       "      <td>...</td>\n",
       "    </tr>\n",
       "    <tr>\n",
       "      <th>1147</th>\n",
       "      <td>Devshayani Ekadashi 2024: When is Devshayani E...</td>\n",
       "      <td>Religion</td>\n",
       "    </tr>\n",
       "    <tr>\n",
       "      <th>1148</th>\n",
       "      <td>Skanda Sashti July 2024: Date, Time, Rituals a...</td>\n",
       "      <td>Religion</td>\n",
       "    </tr>\n",
       "    <tr>\n",
       "      <th>1149</th>\n",
       "      <td>Vinayak Chaturthi July 2024: Date, Time, Ritua...</td>\n",
       "      <td>Religion</td>\n",
       "    </tr>\n",
       "    <tr>\n",
       "      <th>1150</th>\n",
       "      <td>Ashadha Amavasya 2024: Date, Time, Rituals and...</td>\n",
       "      <td>Religion</td>\n",
       "    </tr>\n",
       "    <tr>\n",
       "      <th>1151</th>\n",
       "      <td>Budh Pradosh Vrat in July 2024: Date, Time, Pu...</td>\n",
       "      <td>Religion</td>\n",
       "    </tr>\n",
       "  </tbody>\n",
       "</table>\n",
       "<p>1152 rows × 2 columns</p>\n",
       "</div>"
      ],
      "text/plain": [
       "                                               Headline          Genre\n",
       "0      Here's why Nitesh selected Ranbir for 'Ramayana'  Entertainment\n",
       "1      Tanushree Dutta criticises Hema Committee report  Entertainment\n",
       "2      Michael C. Hall returns to the ‘Dexter’ universe  Entertainment\n",
       "3        Behind the scenes moments with Bollywood stars  Entertainment\n",
       "4      Confirmed! JL files for divorce from Ben Affleck  Entertainment\n",
       "...                                                 ...            ...\n",
       "1147  Devshayani Ekadashi 2024: When is Devshayani E...       Religion\n",
       "1148  Skanda Sashti July 2024: Date, Time, Rituals a...       Religion\n",
       "1149  Vinayak Chaturthi July 2024: Date, Time, Ritua...       Religion\n",
       "1150  Ashadha Amavasya 2024: Date, Time, Rituals and...       Religion\n",
       "1151  Budh Pradosh Vrat in July 2024: Date, Time, Pu...       Religion\n",
       "\n",
       "[1152 rows x 2 columns]"
      ]
     },
     "execution_count": 507,
     "metadata": {},
     "output_type": "execute_result"
    }
   ],
   "source": [
    "df = pd.read_csv('TOI_News.csv')\n",
    "df"
   ]
  },
  {
   "cell_type": "code",
   "execution_count": 508,
   "metadata": {},
   "outputs": [
    {
     "data": {
      "text/plain": [
       "Genre\n",
       "Health           318\n",
       "Business         274\n",
       "Politics         142\n",
       "Sports           132\n",
       "Entertainment     75\n",
       "Education         69\n",
       "Religion          57\n",
       "Technology        44\n",
       "Life-Style        41\n",
       "Name: count, dtype: int64"
      ]
     },
     "execution_count": 508,
     "metadata": {},
     "output_type": "execute_result"
    }
   ],
   "source": [
    "df.Genre.value_counts()"
   ]
  }
 ],
 "metadata": {
  "kernelspec": {
   "display_name": "work",
   "language": "python",
   "name": "python3"
  },
  "language_info": {
   "codemirror_mode": {
    "name": "ipython",
    "version": 3
   },
   "file_extension": ".py",
   "mimetype": "text/x-python",
   "name": "python",
   "nbconvert_exporter": "python",
   "pygments_lexer": "ipython3",
   "version": "3.11.7"
  }
 },
 "nbformat": 4,
 "nbformat_minor": 2
}
