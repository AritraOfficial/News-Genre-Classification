{
 "cells": [
  {
   "cell_type": "markdown",
   "metadata": {},
   "source": [
    "# Project : News Genre Prediction From The Headline"
   ]
  },
  {
   "cell_type": "markdown",
   "metadata": {},
   "source": [
    "____________________________"
   ]
  },
  {
   "cell_type": "markdown",
   "metadata": {},
   "source": [
    "## Step 1: Import Required Libraries"
   ]
  },
  {
   "cell_type": "code",
   "execution_count": 14,
   "metadata": {},
   "outputs": [],
   "source": [
    "import pandas as pd\n",
    "from sklearn.model_selection import train_test_split\n",
    "from sklearn.feature_extraction.text import CountVectorizer, TfidfVectorizer\n",
    "from sklearn.ensemble import RandomForestClassifier\n",
    "from sklearn.svm import SVC\n",
    "from sklearn.metrics import accuracy_score\n",
    "import seaborn as sns\n",
    "import matplotlib.pyplot as plt"
   ]
  },
  {
   "cell_type": "code",
   "execution_count": 2,
   "metadata": {},
   "outputs": [
    {
     "data": {
      "text/html": [
       "<div>\n",
       "<style scoped>\n",
       "    .dataframe tbody tr th:only-of-type {\n",
       "        vertical-align: middle;\n",
       "    }\n",
       "\n",
       "    .dataframe tbody tr th {\n",
       "        vertical-align: top;\n",
       "    }\n",
       "\n",
       "    .dataframe thead th {\n",
       "        text-align: right;\n",
       "    }\n",
       "</style>\n",
       "<table border=\"1\" class=\"dataframe\">\n",
       "  <thead>\n",
       "    <tr style=\"text-align: right;\">\n",
       "      <th></th>\n",
       "      <th>Headline</th>\n",
       "      <th>Genre</th>\n",
       "    </tr>\n",
       "  </thead>\n",
       "  <tbody>\n",
       "    <tr>\n",
       "      <th>0</th>\n",
       "      <td>Here's why Nitesh selected Ranbir for 'Ramayana'</td>\n",
       "      <td>Entertainment</td>\n",
       "    </tr>\n",
       "    <tr>\n",
       "      <th>1</th>\n",
       "      <td>Tanushree Dutta criticises Hema Committee report</td>\n",
       "      <td>Entertainment</td>\n",
       "    </tr>\n",
       "    <tr>\n",
       "      <th>2</th>\n",
       "      <td>Michael C. Hall returns to the ‘Dexter’ universe</td>\n",
       "      <td>Entertainment</td>\n",
       "    </tr>\n",
       "    <tr>\n",
       "      <th>3</th>\n",
       "      <td>Behind the scenes moments with Bollywood stars</td>\n",
       "      <td>Entertainment</td>\n",
       "    </tr>\n",
       "    <tr>\n",
       "      <th>4</th>\n",
       "      <td>Confirmed! JL files for divorce from Ben Affleck</td>\n",
       "      <td>Entertainment</td>\n",
       "    </tr>\n",
       "  </tbody>\n",
       "</table>\n",
       "</div>"
      ],
      "text/plain": [
       "                                           Headline          Genre\n",
       "0  Here's why Nitesh selected Ranbir for 'Ramayana'  Entertainment\n",
       "1  Tanushree Dutta criticises Hema Committee report  Entertainment\n",
       "2  Michael C. Hall returns to the ‘Dexter’ universe  Entertainment\n",
       "3    Behind the scenes moments with Bollywood stars  Entertainment\n",
       "4  Confirmed! JL files for divorce from Ben Affleck  Entertainment"
      ]
     },
     "execution_count": 2,
     "metadata": {},
     "output_type": "execute_result"
    }
   ],
   "source": [
    "df = pd.read_csv('TOI_News.csv')\n",
    "df.head()"
   ]
  },
  {
   "cell_type": "code",
   "execution_count": 3,
   "metadata": {},
   "outputs": [
    {
     "data": {
      "text/plain": [
       "Genre\n",
       "Health           318\n",
       "Business         274\n",
       "Politics         142\n",
       "Sports           132\n",
       "Entertainment     75\n",
       "Education         69\n",
       "Religion          57\n",
       "Technology        44\n",
       "Life-Style        41\n",
       "Name: count, dtype: int64"
      ]
     },
     "execution_count": 3,
     "metadata": {},
     "output_type": "execute_result"
    }
   ],
   "source": [
    "df['Genre'].value_counts()"
   ]
  },
  {
   "cell_type": "code",
   "execution_count": 4,
   "metadata": {},
   "outputs": [
    {
     "data": {
      "text/plain": [
       "Headline    35\n",
       "Genre        0\n",
       "dtype: int64"
      ]
     },
     "execution_count": 4,
     "metadata": {},
     "output_type": "execute_result"
    }
   ],
   "source": [
    "df.isnull().sum()"
   ]
  },
  {
   "cell_type": "code",
   "execution_count": 5,
   "metadata": {},
   "outputs": [],
   "source": [
    "df = df.dropna(subset='Headline')"
   ]
  },
  {
   "cell_type": "code",
   "execution_count": 6,
   "metadata": {},
   "outputs": [
    {
     "data": {
      "text/plain": [
       "Headline    0\n",
       "Genre       0\n",
       "dtype: int64"
      ]
     },
     "execution_count": 6,
     "metadata": {},
     "output_type": "execute_result"
    }
   ],
   "source": [
    "df.isnull().sum()"
   ]
  },
  {
   "cell_type": "code",
   "execution_count": 15,
   "metadata": {},
   "outputs": [
    {
     "data": {
      "image/png": "[encoded data removed]",
      "text/plain": [
       "<Figure size 800x500 with 1 Axes>"
      ]
     },
     "metadata": {},
     "output_type": "display_data"
    }
   ],
   "source": [
    "class_counts = df['Genre'].value_counts()\n",
    "\n",
    "# Plotting the pie chart\n",
    "plt.figure(figsize=(8, 5))\n",
    "plt.pie(class_counts, labels=class_counts.index, autopct='%1.1f%%', startangle=180, colors=['#ff9999','#66b3ff','#99ff99'])\n",
    "plt.title('Class Distribution')\n",
    "plt.axis('equal')  # Equal aspect ratio ensures that pie is drawn as a circle.\n",
    "plt.show()"
   ]
  },
  {
   "cell_type": "markdown",
   "metadata": {},
   "source": [
    "## Step 2: Prepare the Data"
   ]
  },
  {
   "cell_type": "code",
   "execution_count": 7,
   "metadata": {},
   "outputs": [],
   "source": [
    "# Split the dataset into features (X) and target (y)\n",
    "X = df['Headline']\n",
    "y = df['Genre']\n",
    "\n",
    "# Split the data into training and testing sets\n",
    "X_train, X_test, y_train, y_test = train_test_split(X, y, test_size=0.2, random_state=42)\n"
   ]
  },
  {
   "cell_type": "markdown",
   "metadata": {},
   "source": [
    "## Step 3: Create Embeddings (Count Vectorizer and TF-IDF Vectorizer)"
   ]
  },
  {
   "cell_type": "code",
   "execution_count": 8,
   "metadata": {},
   "outputs": [],
   "source": [
    "# Embedding 1: Count Vectorizer\n",
    "count_vectorizer = CountVectorizer()\n",
    "X_train_count = count_vectorizer.fit_transform(X_train)\n",
    "X_test_count = count_vectorizer.transform(X_test)\n",
    "\n",
    "# Embedding 2: TF-IDF Vectorizer\n",
    "tfidf_vectorizer = TfidfVectorizer()\n",
    "X_train_tfidf = tfidf_vectorizer.fit_transform(X_train)\n",
    "X_test_tfidf = tfidf_vectorizer.transform(X_test)\n"
   ]
  },
  {
   "cell_type": "markdown",
   "metadata": {},
   "source": [
    "## Step 4: Train Classifiers (Random Forest and SVM)"
   ]
  },
  {
   "cell_type": "code",
   "execution_count": 9,
   "metadata": {},
   "outputs": [
    {
     "name": "stdout",
     "output_type": "stream",
     "text": [
      "Random Forest with Count Vectorizer Accuracy: 0.72\n",
      "SVM with TF-IDF Vectorizer Accuracy: 0.71\n"
     ]
    }
   ],
   "source": [
    "# Classifier 1: Random Forest with Count Vectorizer\n",
    "rf_classifier = RandomForestClassifier(random_state=42)\n",
    "rf_classifier.fit(X_train_count, y_train)\n",
    "y_pred_rf_count = rf_classifier.predict(X_test_count)\n",
    "accuracy_rf_count = accuracy_score(y_test, y_pred_rf_count)\n",
    "print(f'Random Forest with Count Vectorizer Accuracy: {accuracy_rf_count:.2f}')\n",
    "\n",
    "# Classifier 2: Support Vector Machine (SVM) with TF-IDF Vectorizer\n",
    "svm_classifier = SVC()\n",
    "svm_classifier.fit(X_train_tfidf, y_train)\n",
    "y_pred_svm_tfidf = svm_classifier.predict(X_test_tfidf)\n",
    "accuracy_svm_tfidf = accuracy_score(y_test, y_pred_svm_tfidf)\n",
    "print(f'SVM with TF-IDF Vectorizer Accuracy: {accuracy_svm_tfidf:.2f}')"
   ]
  },
  {
   "cell_type": "markdown",
   "metadata": {},
   "source": [
    "## Step 5: Making Predictions on New Headlines"
   ]
  },
  {
   "cell_type": "code",
   "execution_count": 13,
   "metadata": {},
   "outputs": [
    {
     "name": "stdout",
     "output_type": "stream",
     "text": [
      "The Headline is: 'India retained its growth momentum in Q1 of FY25, says FinMin's monthly economic review' \n",
      "Predicted Genre with Random Forest and Count Vectorizer >> Business\n",
      "Predicted Genre with SVM and TF-IDF Vectorizer >> Business\n"
     ]
    }
   ],
   "source": [
    "# Get the input headline from the user\n",
    "headline = input(\"Enter A New Headline >> \")\n",
    "\n",
    "# Transform the input headline using the trained vectorizers\n",
    "headline_count = count_vectorizer.transform([headline])\n",
    "headline_tfidf = tfidf_vectorizer.transform([headline])\n",
    "\n",
    "# Predict using Random Forest with Count Vectorizer\n",
    "predicted_genre_rf = rf_classifier.predict(headline_count)[0]\n",
    "print(f\"The Headline is: '{headline}' \\nPredicted Genre with Random Forest and Count Vectorizer >> {predicted_genre_rf}\")\n",
    "\n",
    "# Predict using SVM with TF-IDF Vectorizer\n",
    "predicted_genre_svm = svm_classifier.predict(headline_tfidf)[0]\n",
    "print(f\"Predicted Genre with SVM and TF-IDF Vectorizer >> {predicted_genre_svm}\")\n"
   ]
  }
 ],
 "metadata": {
  "kernelspec": {
   "display_name": "work",
   "language": "python",
   "name": "python3"
  },
  "language_info": {
   "codemirror_mode": {
    "name": "ipython",
    "version": 3
   },
   "file_extension": ".py",
   "mimetype": "text/x-python",
   "name": "python",
   "nbconvert_exporter": "python",
   "pygments_lexer": "ipython3",
   "version": "3.11.7"
  }
 },
 "nbformat": 4,
 "nbformat_minor": 2
}
